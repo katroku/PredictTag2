{
 "cells": [
  {
   "cell_type": "code",
   "execution_count": 1,
   "metadata": {},
   "outputs": [],
   "source": [
    "import pandas as pd\n",
    "from urllib.parse import unquote\n",
    "from time import time\n",
    "starttime = time()"
   ]
  },
  {
   "cell_type": "markdown",
   "metadata": {},
   "source": [
    "# Read data"
   ]
  },
  {
   "cell_type": "code",
   "execution_count": 2,
   "metadata": {},
   "outputs": [],
   "source": [
    "df = pd.read_json('data-1.json',encoding='utf-8')"
   ]
  },
  {
   "cell_type": "markdown",
   "metadata": {},
   "source": [
    "# Match similar category labels"
   ]
  },
  {
   "cell_type": "code",
   "execution_count": 3,
   "metadata": {},
   "outputs": [],
   "source": [
    "CAT= {\n",
    "    #category: change to this\n",
    "    'ข่าวบันเทิง':\"entertainment\",\n",
    "    'regional':'local',\n",
    "    'sport':'sports',\n",
    "    'ข่าวกีฬา':'sports',\n",
    "    'ข่าวอาชญากรรม':'crime',\n",
    "    'khrongkhaidaasapparod':'ข่าวโครงข่ายตาสับปะรด',\n",
    "    'around-the-world-news':'foreign',\n",
    "    'abroad':'foreign',\n",
    "    'ข่าวต่างประเทศ':'foreign',\n",
    "    'ข่าวไลฟ์สไตล์':'lifestyle',\n",
    "    'analysis-today-politics':'politics',\n",
    "    'politic':'politics',\n",
    "    'ข่าวเศรษฐกิจ':'economics',\n",
    "    'economy':'economics',\n",
    "    'economic':'economics',\n",
    "    'uncategorized':'others',\n",
    "    'auto':'car-vehicle',\n",
    "    'thai-soccer':'thaifootball',\n",
    "    'ข่าวพระราชสำนัก':'royalnews',\n",
    "    'it':'tech'\n",
    "}\n",
    "\n",
    "def conv_cate(category):\n",
    "    result = CAT.get(category,-1)\n",
    "    if result!=-1:\n",
    "        return result\n",
    "    else :\n",
    "        #in case want to update dictionary\n",
    "        #CAT[category] = category\n",
    "        return category"
   ]
  },
  {
   "cell_type": "markdown",
   "metadata": {},
   "source": [
    "# Undo URL encoding and match similar categories"
   ]
  },
  {
   "cell_type": "code",
   "execution_count": 4,
   "metadata": {},
   "outputs": [],
   "source": [
    "df['category'] = df['category'].apply(unquote).apply(conv_cate)"
   ]
  },
  {
   "cell_type": "markdown",
   "metadata": {},
   "source": [
    "# Choose Top 9 categories from data"
   ]
  },
  {
   "cell_type": "code",
   "execution_count": 5,
   "metadata": {},
   "outputs": [
    {
     "data": {
      "text/plain": [
       "['local',\n",
       " 'foreign',\n",
       " 'politics',\n",
       " 'sports',\n",
       " 'entertainment',\n",
       " 'article',\n",
       " 'economics',\n",
       " 'crime',\n",
       " 'eurofootball']"
      ]
     },
     "execution_count": 5,
     "metadata": {},
     "output_type": "execute_result"
    }
   ],
   "source": [
    "import numpy as np\n",
    "category = np.array(df['category'])\n",
    "tags, freq = np.unique(category,return_counts=True)\n",
    "freqList = list(zip(tags,freq))\n",
    "freqList.sort(key=lambda elem:elem[1],reverse=True) #sort by frequency\n",
    "\n",
    "#get category with lots of data examples\n",
    "topCats = [category[0] for category in freqList[:9]]\n",
    "topCats"
   ]
  },
  {
   "cell_type": "code",
   "execution_count": 6,
   "metadata": {},
   "outputs": [],
   "source": [
    "X = np.array(df[df.category.isin(topCats)]['news_content'])\n",
    "y = np.array(df[df.category.isin(topCats)]['category'])"
   ]
  },
  {
   "cell_type": "markdown",
   "metadata": {},
   "source": [
    "# Clean Text"
   ]
  },
  {
   "cell_type": "code",
   "execution_count": 7,
   "metadata": {},
   "outputs": [],
   "source": [
    "import re\n",
    "\n",
    "def text_prepare(text):\n",
    "    text = re.sub('[^ก-๙‘’“”]', '', text)\n",
    "    return text"
   ]
  },
  {
   "cell_type": "code",
   "execution_count": 8,
   "metadata": {},
   "outputs": [],
   "source": [
    "X = np.array([text_prepare(body) for body in X])"
   ]
  },
  {
   "cell_type": "markdown",
   "metadata": {},
   "source": [
    "# Split data into train and test sets"
   ]
  },
  {
   "cell_type": "code",
   "execution_count": 9,
   "metadata": {},
   "outputs": [],
   "source": [
    "from sklearn.model_selection import train_test_split\n",
    "X_train, X_test, y_train, y_test = train_test_split(X, y, test_size = 0.25, random_state = 0)"
   ]
  },
  {
   "cell_type": "markdown",
   "metadata": {},
   "source": [
    "# Tokenize thai words"
   ]
  },
  {
   "cell_type": "code",
   "execution_count": 10,
   "metadata": {},
   "outputs": [],
   "source": [
    "from pythainlp.tokenize import word_tokenize"
   ]
  },
  {
   "cell_type": "code",
   "execution_count": 11,
   "metadata": {},
   "outputs": [],
   "source": [
    "#tokenize function\n",
    "def Thaitokenize(text):\n",
    "    \"\"\"\n",
    "    turn a Thai sentence into Thai words with meaning\n",
    "    \"\"\"\n",
    "    #text = ''.join(text.split('\"')) ##handled in regex??\n",
    "    text = word_tokenize(text , engine = 'pyicu')\n",
    "    return text"
   ]
  },
  {
   "cell_type": "code",
   "execution_count": 12,
   "metadata": {},
   "outputs": [],
   "source": [
    "from pythainlp.corpus.common import thai_stopwords\n",
    "thai_stopwords = thai_stopwords()"
   ]
  },
  {
   "cell_type": "markdown",
   "metadata": {},
   "source": [
    "# Count Vectorizer"
   ]
  },
  {
   "cell_type": "code",
   "execution_count": 13,
   "metadata": {},
   "outputs": [
    {
     "name": "stderr",
     "output_type": "stream",
     "text": [
      "/opt/conda/lib/python3.7/site-packages/sklearn/feature_extraction/text.py:386: UserWarning: Your stop_words may be inconsistent with your preprocessing. Tokenizing the stop words generated tokens ['กระไร', 'กาลนาน', 'ชิ้น', 'ดังที่', 'ดี', 'ดีกว่า', 'ด้อย', 'ตัว', 'ต่อไป', 'ถัดไป', 'ทั่วถึง', 'ทำ', 'ที่จะ', 'ท่าน', 'ท้าย', 'นา', 'บอ', 'บัด', 'ระยะเวลา', 'ล่ะ', 'วันวาน', 'สม', 'สมบูรณ์', 'สํา', 'หน้า', 'หรับ', 'หา', 'อย', 'เกี่ยว', 'เก่า', 'เดี๋ยวนี้', 'เย็น', 'เล่า', 'เสมือน', 'เหมือนกัน', 'แด่', 'แม้น', 'แหล่', 'โง้น', 'โน้น', 'ใด', 'ไว', 'ไหม'] not in stop_words.\n",
      "  'stop_words.' % sorted(inconsistent))\n"
     ]
    }
   ],
   "source": [
    "from sklearn.feature_extraction.text import CountVectorizer\n",
    "vec1 = CountVectorizer(tokenizer=Thaitokenize, ngram_range=(1,3),stop_words=thai_stopwords)\n",
    "X_train_bow = vec1.fit_transform(X_train)\n",
    "X_test_bow = vec1.transform(X_test)"
   ]
  },
  {
   "cell_type": "markdown",
   "metadata": {},
   "source": [
    "# TFIDF Vectorizer"
   ]
  },
  {
   "cell_type": "code",
   "execution_count": 14,
   "metadata": {},
   "outputs": [],
   "source": [
    "from sklearn.feature_extraction.text import TfidfVectorizer\n",
    "vec2 = TfidfVectorizer(tokenizer=Thaitokenize, max_df=0.9, min_df = 5, ngram_range=(1,3),stop_words=thai_stopwords)\n",
    "X_train_tfidf = vec2.fit_transform(X_train)\n",
    "X_test_tfidf = vec2.transform(X_test)\n",
    "#print(vectorizer.get_feature_names())\n",
    "#print(X_train_tfidf.shape)"
   ]
  },
  {
   "cell_type": "markdown",
   "metadata": {},
   "source": [
    "# Train Model"
   ]
  },
  {
   "cell_type": "code",
   "execution_count": 15,
   "metadata": {},
   "outputs": [],
   "source": [
    "from sklearn.multiclass import OneVsRestClassifier\n",
    "from sklearn.svm import SVC\n",
    "\n",
    "#BOW\n",
    "clf1 = OneVsRestClassifier(SVC(kernel='rbf')).fit(X_train_bow, y_train)\n",
    "y_pred_bow = clf1.predict(X_test_bow)\n",
    "\n",
    "#Tfidf\n",
    "clf2 = OneVsRestClassifier(SVC(kernel='rbf')).fit(X_train_tfidf, y_train)\n",
    "y_pred_tfidf = clf2.predict(X_test_tfidf)"
   ]
  },
  {
   "cell_type": "markdown",
   "metadata": {},
   "source": [
    "# Accuracy"
   ]
  },
  {
   "cell_type": "code",
   "execution_count": 16,
   "metadata": {},
   "outputs": [
    {
     "name": "stdout",
     "output_type": "stream",
     "text": [
      "[[ 7  0  1  3  0  4  5  2  2]\n",
      " [ 0  5  0  0  0  1 14  0  0]\n",
      " [ 0  0 15  0  0  3  5  3  1]\n",
      " [ 1  0  1 16  0  0  7  1  2]\n",
      " [ 0  0  0  0  8  0  0  0 12]\n",
      " [ 0  0  0  0  0 79  3  0  1]\n",
      " [ 0  0  1  0  0  4 80  3  4]\n",
      " [ 1  0  0  2  0  7  9 45  1]\n",
      " [ 1  0  0  2  0  1  1  0 60]]\n",
      "0.7429245283018868\n",
      "[[ 2  0  0  1  0  5 10  5  1]\n",
      " [ 0  7  0  0  0  0 13  0  0]\n",
      " [ 0  0 15  0  0  3  4  4  1]\n",
      " [ 2  0  0 17  0  2  4  1  2]\n",
      " [ 0  0  0  0  9  0  0  0 11]\n",
      " [ 0  0  0  0  0 80  3  0  0]\n",
      " [ 0  2  3  1  0  3 72 10  1]\n",
      " [ 0  0  0  0  0  5  3 57  0]\n",
      " [ 1  0  0  0  0  1  0  0 63]]\n",
      "0.7594339622641509\n"
     ]
    }
   ],
   "source": [
    "from sklearn.metrics import confusion_matrix, accuracy_score\n",
    "\n",
    "cm1 = confusion_matrix(y_test, y_pred_bow)\n",
    "print(cm1)\n",
    "print(accuracy_score(y_test, y_pred_bow))\n",
    "\n",
    "cm2 = confusion_matrix(y_test, y_pred_tfidf)\n",
    "print(cm2)\n",
    "print(accuracy_score(y_test, y_pred_tfidf))"
   ]
  },
  {
   "cell_type": "code",
   "execution_count": 17,
   "metadata": {},
   "outputs": [
    {
     "name": "stdout",
     "output_type": "stream",
     "text": [
      "Execution time:  98.67243456840515 s\n"
     ]
    }
   ],
   "source": [
    "print('Execution time: ',(time()-starttime), 's')"
   ]
  },
  {
   "cell_type": "markdown",
   "metadata": {},
   "source": [
    "# Predict category with a single sentence"
   ]
  },
  {
   "cell_type": "code",
   "execution_count": 18,
   "metadata": {},
   "outputs": [
    {
     "name": "stdout",
     "output_type": "stream",
     "text": [
      "['article']\n",
      "['politics']\n"
     ]
    }
   ],
   "source": [
    "test = text_prepare('“อนุทิน” ขอ ผู้ร้อง เปิดชื่อ อักษรย่อ \\\"พ\\\" คนหักหัวคิวโรงแรม 40%')\n",
    "\n",
    "#BOW\n",
    "test1 = vec1.transform([test])\n",
    "print(clf1.predict(test1))\n",
    "\n",
    "#TFIDF\n",
    "test2 = vec2.transform([test])\n",
    "print(clf2.predict(test2))"
   ]
  },
  {
   "cell_type": "markdown",
   "metadata": {},
   "source": [
    "# Observe relationship of amount of data supplied and correctly predicted"
   ]
  },
  {
   "cell_type": "code",
   "execution_count": 19,
   "metadata": {},
   "outputs": [],
   "source": [
    "import matplotlib.pyplot as plt\n",
    "from sklearn.metrics import plot_confusion_matrix"
   ]
  },
  {
   "cell_type": "code",
   "execution_count": 20,
   "metadata": {},
   "outputs": [
    {
     "data": {
      "text/plain": [
       "<sklearn.metrics._plot.confusion_matrix.ConfusionMatrixDisplay at 0x7f92c5f21890>"
      ]
     },
     "execution_count": 20,
     "metadata": {},
     "output_type": "execute_result"
    },
    {
     "data": {
      "image/png": "[encoded data removed]",
      "text/plain": [
       "<Figure size 432x288 with 2 Axes>"
      ]
     },
     "metadata": {
      "needs_background": "light"
     },
     "output_type": "display_data"
    }
   ],
   "source": [
    "plot_confusion_matrix(clf1, X_test_bow, y_test)"
   ]
  },
  {
   "cell_type": "code",
   "execution_count": 21,
   "metadata": {},
   "outputs": [
    {
     "data": {
      "text/plain": [
       "<sklearn.metrics._plot.confusion_matrix.ConfusionMatrixDisplay at 0x7f92c5e7ea50>"
      ]
     },
     "execution_count": 21,
     "metadata": {},
     "output_type": "execute_result"
    },
    {
     "data": {
      "image/png": "[encoded data removed]",
      "text/plain": [
       "<Figure size 432x288 with 2 Axes>"
      ]
     },
     "metadata": {
      "needs_background": "light"
     },
     "output_type": "display_data"
    }
   ],
   "source": [
    "plot_confusion_matrix(clf2, X_test_tfidf, y_test)"
   ]
  },
  {
   "cell_type": "code",
   "execution_count": 22,
   "metadata": {},
   "outputs": [
    {
     "data": {
      "text/plain": [
       "[('article', 74),\n",
       " ('crime', 60),\n",
       " ('economics', 69),\n",
       " ('entertainment', 101),\n",
       " ('eurofootball', 58),\n",
       " ('foreign', 255),\n",
       " ('local', 265),\n",
       " ('politics', 196),\n",
       " ('sports', 192)]"
      ]
     },
     "execution_count": 22,
     "metadata": {},
     "output_type": "execute_result"
    }
   ],
   "source": [
    "tags, freq = np.unique(y_train,return_counts=True)\n",
    "list(zip(tags,freq))"
   ]
  },
  {
   "cell_type": "code",
   "execution_count": null,
   "metadata": {},
   "outputs": [],
   "source": []
  }
 ],
 "metadata": {
  "environment": {
   "name": "common-cpu.m49",
   "type": "gcloud",
   "uri": "gcr.io/deeplearning-platform-release/base-cpu:m49"
  },
  "kernelspec": {
   "display_name": "Python 3",
   "language": "python",
   "name": "python3"
  },
  "language_info": {
   "codemirror_mode": {
    "name": "ipython",
    "version": 3
   },
   "file_extension": ".py",
   "mimetype": "text/x-python",
   "name": "python",
   "nbconvert_exporter": "python",
   "pygments_lexer": "ipython3",
   "version": "3.7.6"
  }
 },
 "nbformat": 4,
 "nbformat_minor": 4
}
