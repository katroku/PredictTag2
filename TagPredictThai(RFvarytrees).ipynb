{
 "cells": [
  {
   "cell_type": "code",
   "execution_count": 1,
   "metadata": {},
   "outputs": [],
   "source": [
    "import pandas as pd\n",
    "from urllib.parse import unquote\n",
    "from time import time\n",
    "starttime = time()"
   ]
  },
  {
   "cell_type": "markdown",
   "metadata": {},
   "source": [
    "# Read data"
   ]
  },
  {
   "cell_type": "code",
   "execution_count": 2,
   "metadata": {},
   "outputs": [],
   "source": [
    "df = pd.read_json('data-1.json',encoding='utf-8')"
   ]
  },
  {
   "cell_type": "markdown",
   "metadata": {},
   "source": [
    "# Match similar category labels"
   ]
  },
  {
   "cell_type": "code",
   "execution_count": 3,
   "metadata": {},
   "outputs": [],
   "source": [
    "CAT= {\n",
    "    #category: change to this\n",
    "    'ข่าวบันเทิง':\"entertainment\",\n",
    "    'regional':'local',\n",
    "    'sport':'sports',\n",
    "    'ข่าวกีฬา':'sports',\n",
    "    'ข่าวอาชญากรรม':'crime',\n",
    "    'khrongkhaidaasapparod':'ข่าวโครงข่ายตาสับปะรด',\n",
    "    'around-the-world-news':'foreign',\n",
    "    'abroad':'foreign',\n",
    "    'ข่าวต่างประเทศ':'foreign',\n",
    "    'ข่าวไลฟ์สไตล์':'lifestyle',\n",
    "    'analysis-today-politics':'politics',\n",
    "    'politic':'politics',\n",
    "    'ข่าวเศรษฐกิจ':'economics',\n",
    "    'economy':'economics',\n",
    "    'economic':'economics',\n",
    "    'uncategorized':'others',\n",
    "    'auto':'car-vehicle',\n",
    "    'thai-soccer':'thaifootball',\n",
    "    'ข่าวพระราชสำนัก':'royalnews',\n",
    "    'it':'tech'\n",
    "}\n",
    "\n",
    "def conv_cate(category):\n",
    "    result = CAT.get(category,-1)\n",
    "    if result!=-1:\n",
    "        return result\n",
    "    else :\n",
    "        #in case want to update dictionary\n",
    "        #CAT[category] = category\n",
    "        return category"
   ]
  },
  {
   "cell_type": "markdown",
   "metadata": {},
   "source": [
    "# Undo URL encoding and match similar categories"
   ]
  },
  {
   "cell_type": "code",
   "execution_count": 4,
   "metadata": {},
   "outputs": [],
   "source": [
    "df['category'] = df['category'].apply(unquote).apply(conv_cate)"
   ]
  },
  {
   "cell_type": "markdown",
   "metadata": {},
   "source": [
    "# Choose Top 9 categories from data"
   ]
  },
  {
   "cell_type": "code",
   "execution_count": 5,
   "metadata": {},
   "outputs": [
    {
     "data": {
      "text/plain": [
       "['local',\n",
       " 'foreign',\n",
       " 'politics',\n",
       " 'sports',\n",
       " 'entertainment',\n",
       " 'article',\n",
       " 'economics',\n",
       " 'crime',\n",
       " 'eurofootball']"
      ]
     },
     "execution_count": 5,
     "metadata": {},
     "output_type": "execute_result"
    }
   ],
   "source": [
    "import numpy as np\n",
    "category = np.array(df['category'])\n",
    "tags, freq = np.unique(category,return_counts=True)\n",
    "freqList = list(zip(tags,freq))\n",
    "freqList.sort(key=lambda elem:elem[1],reverse=True) #sort by frequency\n",
    "\n",
    "#get category with lots of data examples\n",
    "topCats = [category[0] for category in freqList[:9]]\n",
    "topCats"
   ]
  },
  {
   "cell_type": "code",
   "execution_count": 6,
   "metadata": {},
   "outputs": [],
   "source": [
    "X = np.array(df[df.category.isin(topCats)]['news_content'])\n",
    "y = np.array(df[df.category.isin(topCats)]['category'])"
   ]
  },
  {
   "cell_type": "markdown",
   "metadata": {},
   "source": [
    "# Clean Text"
   ]
  },
  {
   "cell_type": "code",
   "execution_count": 7,
   "metadata": {},
   "outputs": [],
   "source": [
    "import re\n",
    "\n",
    "def text_prepare(text):\n",
    "    text = re.sub('[^ก-๙‘’“”]', '', text)\n",
    "    return text"
   ]
  },
  {
   "cell_type": "code",
   "execution_count": 8,
   "metadata": {},
   "outputs": [],
   "source": [
    "X = np.array([text_prepare(body) for body in X])"
   ]
  },
  {
   "cell_type": "markdown",
   "metadata": {},
   "source": [
    "# Split data into train and test sets"
   ]
  },
  {
   "cell_type": "code",
   "execution_count": 9,
   "metadata": {},
   "outputs": [],
   "source": [
    "from sklearn.model_selection import train_test_split\n",
    "X_train, X_test, y_train, y_test = train_test_split(X, y, test_size = 0.25, random_state = 0)"
   ]
  },
  {
   "cell_type": "markdown",
   "metadata": {},
   "source": [
    "# Tokenize thai words"
   ]
  },
  {
   "cell_type": "code",
   "execution_count": 10,
   "metadata": {},
   "outputs": [],
   "source": [
    "from pythainlp.tokenize import word_tokenize"
   ]
  },
  {
   "cell_type": "code",
   "execution_count": 11,
   "metadata": {},
   "outputs": [],
   "source": [
    "#tokenize function\n",
    "def Thaitokenize(text):\n",
    "    \"\"\"\n",
    "    turn a Thai sentence into Thai words with meaning\n",
    "    \"\"\"\n",
    "    #text = ''.join(text.split('\"')) ##handled in regex??\n",
    "    text = word_tokenize(text , engine = 'pyicu')\n",
    "    return text"
   ]
  },
  {
   "cell_type": "markdown",
   "metadata": {},
   "source": [
    "# Count Vectorizer"
   ]
  },
  {
   "cell_type": "code",
   "execution_count": 12,
   "metadata": {},
   "outputs": [],
   "source": [
    "from sklearn.feature_extraction.text import CountVectorizer\n",
    "vec1 = CountVectorizer(tokenizer=Thaitokenize)\n",
    "X_train_bow = vec1.fit_transform(X_train)\n",
    "X_test_bow = vec1.transform(X_test)"
   ]
  },
  {
   "cell_type": "markdown",
   "metadata": {},
   "source": [
    "# TFIDF Vectorizer"
   ]
  },
  {
   "cell_type": "code",
   "execution_count": 13,
   "metadata": {},
   "outputs": [],
   "source": [
    "from sklearn.feature_extraction.text import TfidfVectorizer\n",
    "vec2 = TfidfVectorizer(tokenizer=Thaitokenize, max_df=0.9, min_df = 5)\n",
    "X_train_tfidf = vec2.fit_transform(X_train)\n",
    "X_test_tfidf = vec2.transform(X_test)\n",
    "#print(vectorizer.get_feature_names())\n",
    "#print(X_train_tfidf.shape)"
   ]
  },
  {
   "cell_type": "markdown",
   "metadata": {},
   "source": [
    "# Train Model and Accuracy"
   ]
  },
  {
   "cell_type": "code",
   "execution_count": 14,
   "metadata": {},
   "outputs": [
    {
     "name": "stdout",
     "output_type": "stream",
     "text": [
      "Iteration:  1\n",
      "BOW:  0.375\n",
      "TFIDF:  0.37264150943396224\n",
      "Iteration:  2\n",
      "BOW:  0.46226415094339623\n",
      "TFIDF:  0.5023584905660378\n",
      "Iteration:  3\n",
      "BOW:  0.5188679245283019\n",
      "TFIDF:  0.5047169811320755\n",
      "Iteration:  4\n",
      "BOW:  0.5707547169811321\n",
      "TFIDF:  0.5448113207547169\n",
      "Iteration:  5\n",
      "BOW:  0.5849056603773585\n",
      "TFIDF:  0.5754716981132075\n",
      "Iteration:  6\n",
      "BOW:  0.5990566037735849\n",
      "TFIDF:  0.5990566037735849\n",
      "Iteration:  7\n",
      "BOW:  0.6084905660377359\n",
      "TFIDF:  0.6202830188679245\n",
      "Iteration:  8\n",
      "BOW:  0.6391509433962265\n",
      "TFIDF:  0.6367924528301887\n",
      "Iteration:  9\n",
      "BOW:  0.6556603773584906\n",
      "TFIDF:  0.6320754716981132\n",
      "Iteration:  10\n",
      "BOW:  0.6650943396226415\n",
      "TFIDF:  0.6438679245283019\n",
      "Iteration:  11\n",
      "BOW:  0.6698113207547169\n",
      "TFIDF:  0.6391509433962265\n",
      "Iteration:  12\n",
      "BOW:  0.6816037735849056\n",
      "TFIDF:  0.6438679245283019\n",
      "Iteration:  13\n",
      "BOW:  0.6839622641509434\n",
      "TFIDF:  0.6674528301886793\n",
      "Iteration:  14\n",
      "BOW:  0.6981132075471698\n",
      "TFIDF:  0.6674528301886793\n",
      "Iteration:  15\n",
      "BOW:  0.6886792452830188\n",
      "TFIDF:  0.6745283018867925\n",
      "Iteration:  16\n",
      "BOW:  0.7051886792452831\n",
      "TFIDF:  0.6792452830188679\n",
      "Iteration:  17\n",
      "BOW:  0.7169811320754716\n",
      "TFIDF:  0.6863207547169812\n",
      "Iteration:  18\n",
      "BOW:  0.7122641509433962\n",
      "TFIDF:  0.6792452830188679\n",
      "Iteration:  19\n",
      "BOW:  0.7075471698113207\n",
      "TFIDF:  0.6839622641509434\n",
      "Iteration:  20\n",
      "BOW:  0.7169811320754716\n",
      "TFIDF:  0.6816037735849056\n",
      "Iteration:  21\n",
      "BOW:  0.7099056603773585\n",
      "TFIDF:  0.6933962264150944\n",
      "Iteration:  22\n",
      "BOW:  0.7028301886792453\n",
      "TFIDF:  0.6933962264150944\n",
      "Iteration:  23\n",
      "BOW:  0.7004716981132075\n",
      "TFIDF:  0.6910377358490566\n",
      "Iteration:  24\n",
      "BOW:  0.7122641509433962\n",
      "TFIDF:  0.7051886792452831\n",
      "Iteration:  25\n",
      "BOW:  0.714622641509434\n",
      "TFIDF:  0.7075471698113207\n",
      "Iteration:  26\n",
      "BOW:  0.7193396226415094\n",
      "TFIDF:  0.6910377358490566\n",
      "Iteration:  27\n",
      "BOW:  0.7216981132075472\n",
      "TFIDF:  0.6957547169811321\n",
      "Iteration:  28\n",
      "BOW:  0.7264150943396226\n",
      "TFIDF:  0.7051886792452831\n",
      "Iteration:  29\n",
      "BOW:  0.7287735849056604\n",
      "TFIDF:  0.7028301886792453\n",
      "Iteration:  30\n",
      "BOW:  0.7287735849056604\n",
      "TFIDF:  0.7028301886792453\n",
      "Iteration:  31\n",
      "BOW:  0.7334905660377359\n",
      "TFIDF:  0.7004716981132075\n",
      "Iteration:  32\n",
      "BOW:  0.7240566037735849\n",
      "TFIDF:  0.7028301886792453\n",
      "Iteration:  33\n",
      "BOW:  0.7264150943396226\n",
      "TFIDF:  0.7028301886792453\n",
      "Iteration:  34\n",
      "BOW:  0.7240566037735849\n",
      "TFIDF:  0.7028301886792453\n",
      "Iteration:  35\n",
      "BOW:  0.7216981132075472\n",
      "TFIDF:  0.7075471698113207\n",
      "Iteration:  36\n",
      "BOW:  0.7216981132075472\n",
      "TFIDF:  0.7122641509433962\n",
      "Iteration:  37\n",
      "BOW:  0.7311320754716981\n",
      "TFIDF:  0.7099056603773585\n",
      "Iteration:  38\n",
      "BOW:  0.7358490566037735\n",
      "TFIDF:  0.7193396226415094\n",
      "Iteration:  39\n",
      "BOW:  0.7429245283018868\n",
      "TFIDF:  0.7193396226415094\n",
      "Iteration:  40\n",
      "BOW:  0.7382075471698113\n",
      "TFIDF:  0.7169811320754716\n",
      "Iteration:  41\n",
      "BOW:  0.7382075471698113\n",
      "TFIDF:  0.7122641509433962\n",
      "Iteration:  42\n",
      "BOW:  0.7382075471698113\n",
      "TFIDF:  0.7193396226415094\n",
      "Iteration:  43\n",
      "BOW:  0.7358490566037735\n",
      "TFIDF:  0.7240566037735849\n",
      "Iteration:  44\n",
      "BOW:  0.7334905660377359\n",
      "TFIDF:  0.7240566037735849\n",
      "Iteration:  45\n",
      "BOW:  0.7382075471698113\n",
      "TFIDF:  0.7193396226415094\n",
      "Iteration:  46\n",
      "BOW:  0.7358490566037735\n",
      "TFIDF:  0.7216981132075472\n",
      "Iteration:  47\n",
      "BOW:  0.7334905660377359\n",
      "TFIDF:  0.714622641509434\n",
      "Iteration:  48\n",
      "BOW:  0.7287735849056604\n",
      "TFIDF:  0.7099056603773585\n",
      "Iteration:  49\n",
      "BOW:  0.7240566037735849\n",
      "TFIDF:  0.714622641509434\n",
      "Iteration:  50\n",
      "BOW:  0.7216981132075472\n",
      "TFIDF:  0.7240566037735849\n",
      "Iteration:  51\n",
      "BOW:  0.7240566037735849\n",
      "TFIDF:  0.7216981132075472\n",
      "Iteration:  52\n",
      "BOW:  0.7169811320754716\n",
      "TFIDF:  0.7240566037735849\n",
      "Iteration:  53\n",
      "BOW:  0.7334905660377359\n",
      "TFIDF:  0.7122641509433962\n",
      "Iteration:  54\n",
      "BOW:  0.7334905660377359\n",
      "TFIDF:  0.7169811320754716\n",
      "Iteration:  55\n",
      "BOW:  0.7264150943396226\n",
      "TFIDF:  0.7099056603773585\n",
      "Iteration:  56\n",
      "BOW:  0.7334905660377359\n",
      "TFIDF:  0.7169811320754716\n",
      "Iteration:  57\n",
      "BOW:  0.7334905660377359\n",
      "TFIDF:  0.714622641509434\n",
      "Iteration:  58\n",
      "BOW:  0.7429245283018868\n",
      "TFIDF:  0.7075471698113207\n",
      "Iteration:  59\n",
      "BOW:  0.7452830188679245\n",
      "TFIDF:  0.714622641509434\n",
      "Iteration:  60\n",
      "BOW:  0.7405660377358491\n",
      "TFIDF:  0.7122641509433962\n",
      "Iteration:  61\n",
      "BOW:  0.7382075471698113\n",
      "TFIDF:  0.7169811320754716\n",
      "Iteration:  62\n",
      "BOW:  0.7382075471698113\n",
      "TFIDF:  0.7216981132075472\n",
      "Iteration:  63\n",
      "BOW:  0.7405660377358491\n",
      "TFIDF:  0.7216981132075472\n",
      "Iteration:  64\n",
      "BOW:  0.7452830188679245\n",
      "TFIDF:  0.7193396226415094\n",
      "Iteration:  65\n",
      "BOW:  0.75\n",
      "TFIDF:  0.7169811320754716\n",
      "Iteration:  66\n",
      "BOW:  0.7476415094339622\n",
      "TFIDF:  0.7169811320754716\n",
      "Iteration:  67\n",
      "BOW:  0.75\n",
      "TFIDF:  0.7193396226415094\n",
      "Iteration:  68\n",
      "BOW:  0.7476415094339622\n",
      "TFIDF:  0.7169811320754716\n",
      "Iteration:  69\n",
      "BOW:  0.7405660377358491\n",
      "TFIDF:  0.7193396226415094\n",
      "Iteration:  70\n",
      "BOW:  0.7405660377358491\n",
      "TFIDF:  0.7216981132075472\n",
      "Iteration:  71\n",
      "BOW:  0.7382075471698113\n",
      "TFIDF:  0.7216981132075472\n",
      "Iteration:  72\n",
      "TFIDF:  0.7334905660377359\n",
      "Iteration:  88\n",
      "BOW:  0.7429245283018868\n",
      "TFIDF:  0.7382075471698113\n",
      "Iteration:  89\n",
      "BOW:  0.7476415094339622\n",
      "TFIDF:  0.7382075471698113\n",
      "Iteration:  90\n",
      "BOW:  0.7452830188679245\n",
      "TFIDF:  0.7382075471698113\n",
      "Iteration:  91\n",
      "BOW:  0.7452830188679245\n",
      "TFIDF:  0.7358490566037735\n",
      "Iteration:  92\n",
      "BOW:  0.7405660377358491\n",
      "TFIDF:  0.7311320754716981\n",
      "Iteration:  93\n",
      "BOW:  0.7405660377358491\n",
      "TFIDF:  0.7311320754716981\n",
      "Iteration:  94\n",
      "BOW:  0.7382075471698113\n",
      "TFIDF:  0.7264150943396226\n",
      "Iteration:  95\n",
      "BOW:  0.7382075471698113\n",
      "TFIDF:  0.7287735849056604\n",
      "Iteration:  96\n",
      "BOW:  0.7358490566037735\n",
      "TFIDF:  0.7287735849056604\n",
      "Iteration:  97\n",
      "BOW:  0.7311320754716981\n",
      "TFIDF:  0.7334905660377359\n",
      "Iteration:  98\n",
      "BOW:  0.7429245283018868\n",
      "TFIDF:  0.7358490566037735\n",
      "Iteration:  99\n",
      "BOW:  0.7476415094339622\n",
      "TFIDF:  0.7334905660377359\n"
     ]
    }
   ],
   "source": [
    "from sklearn.multiclass import OneVsRestClassifier\n",
    "from sklearn.ensemble import RandomForestClassifier\n",
    "from sklearn.metrics import confusion_matrix, accuracy_score\n",
    "\n",
    "bowScores = []\n",
    "tfidfScores = []\n",
    "\n",
    "for i in range(1,100):\n",
    "    #BOW\n",
    "    print(\"Iteration: \",i)\n",
    "    clf1 = OneVsRestClassifier(RandomForestClassifier(n_estimators = i, \n",
    "                                                      criterion = 'entropy', \n",
    "                                                      random_state = 0)).fit(X_train_bow, y_train)\n",
    "    y_pred_bow = clf1.predict(X_test_bow)\n",
    "    score = accuracy_score(y_test, y_pred_bow)\n",
    "    print(\"BOW: \", score)\n",
    "    bowScores.append(score)\n",
    "    \n",
    "    #Tfidf\n",
    "    clf2 = OneVsRestClassifier(RandomForestClassifier(n_estimators = i, \n",
    "                                                      criterion = 'entropy', \n",
    "                                                      random_state = 0)).fit(X_train_tfidf, y_train)\n",
    "    y_pred_tfidf = clf2.predict(X_test_tfidf)\n",
    "    score = accuracy_score(y_test, y_pred_tfidf)\n",
    "    print(\"TFIDF: \", score)\n",
    "    tfidfScores.append(score)"
   ]
  },
  {
   "cell_type": "code",
   "execution_count": 15,
   "metadata": {},
   "outputs": [
    {
     "name": "stdout",
     "output_type": "stream",
     "text": [
      "Execution time:  666.8799669742584 s\n"
     ]
    }
   ],
   "source": [
    "print('Execution time: ',(time()-starttime), 's')"
   ]
  },
  {
   "cell_type": "code",
   "execution_count": null,
   "metadata": {},
   "outputs": [],
   "source": [
    "from matplotlib.pyplot import plt\n",
    "plt.plot(range(1,100),bowScores)\n",
    "plt.show()"
   ]
  },
  {
   "cell_type": "markdown",
   "metadata": {},
   "source": [
    "# Predict category with a single sentence"
   ]
  },
  {
   "cell_type": "code",
   "execution_count": null,
   "metadata": {},
   "outputs": [],
   "source": [
    "test = text_prepare('“อนุทิน” ขอ ผู้ร้อง เปิดชื่อ อักษรย่อ \\\"พ\\\" คนหักหัวคิวโรงแรม 40%')\n",
    "\n",
    "#BOW\n",
    "test1 = vec1.transform([test])\n",
    "print(clf1.predict(test1))\n",
    "\n",
    "#TFIDF\n",
    "test2 = vec2.transform([test])\n",
    "print(clf2.predict(test2))"
   ]
  },
  {
   "cell_type": "code",
   "execution_count": null,
   "metadata": {},
   "outputs": [],
   "source": []
  }
 ],
 "metadata": {
  "environment": {
   "name": "common-cpu.m49",
   "type": "gcloud",
   "uri": "gcr.io/deeplearning-platform-release/base-cpu:m49"
  },
  "kernelspec": {
   "display_name": "Python 3",
   "language": "python",
   "name": "python3"
  },
  "language_info": {
   "codemirror_mode": {
    "name": "ipython",
    "version": 3
   },
   "file_extension": ".py",
   "mimetype": "text/x-python",
   "name": "python",
   "nbconvert_exporter": "python",
   "pygments_lexer": "ipython3",
   "version": "3.7.6"
  }
 },
 "nbformat": 4,
 "nbformat_minor": 4
}
